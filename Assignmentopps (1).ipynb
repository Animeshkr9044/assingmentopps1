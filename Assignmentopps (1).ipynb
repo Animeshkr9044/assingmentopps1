{
 "cells": [
  {
   "cell_type": "code",
   "execution_count": 1,
   "id": "e16d0d8d-8fb8-48dc-b2ff-19837d039a5a",
   "metadata": {},
   "outputs": [],
   "source": [
    "#Q1. Explain Class and Object with respect to Object-Oriented Programming. Give a suitable example."
   ]
  },
  {
   "cell_type": "code",
   "execution_count": null,
   "id": "cf6157f3-3e83-4902-bdcb-40360ea17dfe",
   "metadata": {},
   "outputs": [],
   "source": [
    "#ans1-Class \n",
    "#A class is a collection of objects. A class contains the blueprints or the prototype from which the objects are being created. It is a logical entity that contains some attributes and methods.\n",
    "#eg-class Dog:\n",
    "  #  pass\n",
    "#Objects\n",
    "#The object is an entity that has a state and behavior associated with it. It may be any real-world object like a mouse, keyboard, chair, table, pen, etc. Integers, strings, floating-point numbers, even arrays, and dictionaries, are all objects. More specifically, any single integer or any single string is an object. The number 12 is an object, the string “Hello, world” is an object, a list is an object that can hold other objects, and so on\n",
    "#obj = Dog()"
   ]
  },
  {
   "cell_type": "code",
   "execution_count": null,
   "id": "fe888f15-8a12-4b08-b855-b96f985e9c51",
   "metadata": {},
   "outputs": [],
   "source": [
    "#Q2. Name the four pillars of OOPs."
   ]
  },
  {
   "cell_type": "code",
   "execution_count": null,
   "id": "7359dc76-11fd-44c2-ad76-d16bf789a437",
   "metadata": {},
   "outputs": [],
   "source": [
    "#ans2-The four pillars of Oops\n",
    "#1. Abstraction\n",
    "#2. Encapsulation\n",
    "#3. Inheritance\n",
    "#4. Polymorphism"
   ]
  },
  {
   "cell_type": "code",
   "execution_count": 1,
   "id": "c549ede8-346a-46db-b135-92bb752ef82e",
   "metadata": {},
   "outputs": [],
   "source": [
    "#Q3. Explain why the __init__() function is used. Give a suitable example."
   ]
  },
  {
   "cell_type": "code",
   "execution_count": null,
   "id": "0ae67143-1b9c-42a7-89c0-88c7b8ccd4c0",
   "metadata": {},
   "outputs": [],
   "source": []
  },
  {
   "cell_type": "code",
   "execution_count": 2,
   "id": "d9a7c695-6886-4590-b400-ea241e89ed1d",
   "metadata": {},
   "outputs": [],
   "source": [
    "#ans-There is a method called __init__() for this task. This method is called automatically whenever a new object of a class is created. This type of function is also known as the constructor function. A constructor function is a function that is called every time a new class object is created.\n",
    "#Here is an example of a class Car that will clarify the functioning \n",
    "#example of __init__"
   ]
  },
  {
   "cell_type": "code",
   "execution_count": 3,
   "id": "e90d491d-c528-429e-95ba-74fb0a71c206",
   "metadata": {},
   "outputs": [
    {
     "name": "stdout",
     "output_type": "stream",
     "text": [
      "I ran first\n",
      "I ran second\n",
      "Name: Audi R8\n"
     ]
    }
   ],
   "source": [
    "class Car:\n",
    "    def __init__(self, name):\n",
    "        self.name = name\n",
    "        print(\"I ran first\")\n",
    " \n",
    "    def product(self):\n",
    "        print(\"I ran second\")\n",
    "        return (\"Name: \" + self.name)\n",
    " \n",
    " \n",
    "C = Car('Audi R8')\n",
    "print(C.product())\n"
   ]
  },
  {
   "cell_type": "code",
   "execution_count": 4,
   "id": "4a351f0e-f497-4d86-ad51-35f3460ea22a",
   "metadata": {},
   "outputs": [],
   "source": [
    "#Q4. Why self is used in OOPs?"
   ]
  },
  {
   "cell_type": "code",
   "execution_count": null,
   "id": "2dd5cbaa-4d19-4127-8113-dbf91cd19d1a",
   "metadata": {},
   "outputs": [],
   "source": [
    "#ans-4-The self variable is used to represent the instance of the class which is often used in object-oriented programming. It works as a reference to the object. Python uses the self parameter to refer to instance attributes and methods of the class.  "
   ]
  },
  {
   "cell_type": "code",
   "execution_count": null,
   "id": "833f3500-65e2-4026-90ad-8ab1ac6d3698",
   "metadata": {},
   "outputs": [],
   "source": [
    "#Q5. What is inheritance? Give an example for each type of inheritance.\n",
    "#ans-Inheritance is a mechanism in which one class acquires the property of another class. For example, a child inherits the traits of his/her parents. With inheritance, we can reuse the fields and methods of the existing class. Hence, inheritance facilitates Reusability and is an important concept of OOPs."
   ]
  },
  {
   "cell_type": "code",
   "execution_count": 17,
   "id": "f96b999f-182f-486f-8d04-6d049bbde1c0",
   "metadata": {},
   "outputs": [
    {
     "name": "stdout",
     "output_type": "stream",
     "text": [
      "this function is in parent class\n",
      "this function is in child class.\n"
     ]
    }
   ],
   "source": [
    "#single inheritance\n",
    "#single inheritance enables a derived class to inherit properties from a single parent ,\n",
    "#thus enablin code reusebility and addition of new features to existing code\n",
    "#base class \n",
    "class parent :\n",
    "    def func1(self):\n",
    "        print(\"this function is in parent class\")\n",
    "        \n",
    "class child(parent):\n",
    "    def func2(self):\n",
    "        print(\"this function is in child class.\")\n",
    "\n",
    "object = child()\n",
    "object.func1()\n",
    "object.func2()"
   ]
  },
  {
   "cell_type": "code",
   "execution_count": 18,
   "id": "c0fe3500-5f2c-424c-bc9b-adced2aa7fc3",
   "metadata": {},
   "outputs": [],
   "source": [
    "#Multiple Inheritance: \n",
    "#When a class can be derived from more than one base class this type of inheritance is called multiple inheritances. In multiple inheritances, all the features of the base classes are inherited into the derived class."
   ]
  },
  {
   "cell_type": "code",
   "execution_count": 21,
   "id": "e5de9810-8b21-4a10-a070-7c3527f0051b",
   "metadata": {},
   "outputs": [
    {
     "name": "stdout",
     "output_type": "stream",
     "text": [
      "father : ram\n",
      "mother : sita\n"
     ]
    }
   ],
   "source": [
    "#multiple inheritance\n",
    "#base class1\n",
    "class mother :\n",
    "    mothername=\"\"\n",
    "    \n",
    "    def mother(self):\n",
    "        print(self.mothername)\n",
    "#base2  \n",
    "class father :\n",
    "    fathername=\"\"\n",
    "    def father(self):\n",
    "        print(self.fathername)\n",
    "#derived class \n",
    "class son(mother,father):\n",
    "    def parent(self):\n",
    "        print(\"father :\",self.fathername)\n",
    "        print(\"mother :\",self.mothername)\n",
    "#derive's code\n",
    "s1=son()\n",
    "s1.fathername=\"ram\"\n",
    "s1.mothername=\"sita\"\n",
    "s1.parent()"
   ]
  },
  {
   "cell_type": "code",
   "execution_count": 23,
   "id": "1c56983e-efce-4131-8d80-2ffa62750a2a",
   "metadata": {},
   "outputs": [],
   "source": [
    "#Multilevel Inheritance :\n",
    "#in multilevel inheitance, feature of base and derived class are futher inherited into new derived class. this is similar to a relationship representing a child and grandfather "
   ]
  },
  {
   "cell_type": "code",
   "execution_count": null,
   "id": "78935863-3321-4ba9-a143-c16624e93c6e",
   "metadata": {},
   "outputs": [],
   "source": [
    " class Grandfather:\n",
    " \n",
    "    def __init__(self, grandfathername):\n",
    "        self.grandfathername = grandfathername\n",
    " \n",
    "# Intermediate class\n",
    " \n",
    " \n",
    " class Father(Grandfather):\n",
    "    def __init__(self, fathername, grandfathername):\n",
    "        self.fathername = fathername\n",
    " \n",
    "        # invoking constructor of Grandfather class\n",
    "        Grandfather.__init__(self, grandfathername)\n",
    " \n",
    "# Derived class\n",
    " \n",
    " \n",
    " class Son(Father):\n",
    "    def __init__(self, sonname, fathername, grandfathername):\n",
    "        self.sonname = sonname\n",
    " \n",
    "        # invoking constructor of Father class\n",
    "        Father.__init__(self, fathername, grandfathername)\n",
    " \n",
    "    def print_name(self):\n",
    "        print('Grandfather name :', self.grandfathername)\n",
    "        print(\"Father name :\", self.fathername)\n",
    "        print(\"Son name :\", self.sonname)\n",
    " \n",
    " \n",
    "#  Driver code\n",
    " s1 = Son('Prince', 'Rampal', 'Lal mani')\n",
    "print(s1.grandfathername)\n",
    "s1.print_name()"
   ]
  },
  {
   "cell_type": "code",
   "execution_count": 24,
   "id": "3140424c-7f85-47fb-bfc2-6d52fee9aba2",
   "metadata": {},
   "outputs": [],
   "source": [
    "#Hierarchical Inheritance: \n",
    "#When more than one derived class are created from a single base this type of inheritance is called hierarchical inheritance. In this program, we have a parent (base) class and two child (derived) classes.\n",
    "# Python program to demonstrate\n",
    "# Hierarchical inheritance\n",
    " \n",
    " \n",
    "# Base class\n",
    "class Parent:\n",
    "    def func1(self):\n",
    "        print(\"This function is in parent class.\")\n",
    " \n",
    "# Derived class1\n",
    " \n",
    " \n",
    "class Child1(Parent):\n",
    "    def func2(self):\n",
    "        print(\"This function is in child 1.\")\n",
    " \n",
    "# Derivied class2\n",
    " \n",
    " \n",
    "class Child2(Parent):\n",
    "    def func3(self):\n",
    "        print(\"This function is in child 2.\")\n",
    " \n",
    " \n",
    "# Driver's code\n",
    "object1 = Child1()\n",
    "object2 = Child2()\n",
    "object1.func1()\n",
    "object1.func2()\n",
    "object2.func1()\n",
    "object2.func3()\n",
    "\n",
    "        "
   ]
  },
  {
   "cell_type": "code",
   "execution_count": null,
   "id": "a4784e4e-103e-4ba5-a78b-d91e35461580",
   "metadata": {},
   "outputs": [],
   "source": [
    "#Hierarchical Inheritance: \n",
    "#When more than one derived class are created from a single base this type of inheritance is called hierarchical inheritance. In this program, we have a parent (base) class and two child (derived) classes.\n",
    "\n",
    "# Python program to demonstrate\n",
    "# hybrid inheritance\n",
    " \n",
    " \n",
    "class School:\n",
    "    def func1(self):\n",
    "        print(\"This function is in school.\")\n",
    " \n",
    " \n",
    "class Student1(School):\n",
    "    def func2(self):\n",
    "        print(\"This function is in student 1. \")\n",
    " \n",
    " \n",
    "class Student2(School):\n",
    "    def func3(self):\n",
    "        print(\"This function is in student 2.\")\n",
    " \n",
    " \n",
    "class Student3(Student1, School):\n",
    "    def func4(self):\n",
    "        print(\"This function is in student 3.\")\n",
    " \n",
    " \n",
    "# Driver's code\n",
    "object = Student3()\n",
    "object.func1()\n",
    "object.func2()"
   ]
  }
 ],
 "metadata": {
  "kernelspec": {
   "display_name": "Python 3 (ipykernel)",
   "language": "python",
   "name": "python3"
  },
  "language_info": {
   "codemirror_mode": {
    "name": "ipython",
    "version": 3
   },
   "file_extension": ".py",
   "mimetype": "text/x-python",
   "name": "python",
   "nbconvert_exporter": "python",
   "pygments_lexer": "ipython3",
   "version": "3.10.8"
  }
 },
 "nbformat": 4,
 "nbformat_minor": 5
}
